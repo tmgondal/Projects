{
 "cells": [
  {
   "cell_type": "code",
   "execution_count": 1,
   "id": "f219003a",
   "metadata": {},
   "outputs": [],
   "source": [
    "import cv2\n",
    "import numpy as np"
   ]
  },
  {
   "cell_type": "markdown",
   "id": "3ad539b2",
   "metadata": {},
   "source": [
    "cv2 is the module import name for opencv that is a  packages for Python and it can be used to perform tasks like face detection, objection tracking, landmark detection, and much more.\n",
    "\n",
    "Meanwhile, NumPy is a Python library used for working with arrays. It also has functions for working in domain of linear algebra, fourier transform, and matrices"
   ]
  },
  {
   "cell_type": "code",
   "execution_count": 2,
   "id": "a6f71bab",
   "metadata": {},
   "outputs": [],
   "source": [
    "face=cv2.CascadeClassifier('D:/Prism/Youtube-Tuesday/haarcascade_frontalface_default.xml')\n",
    "\n"
   ]
  },
  {
   "cell_type": "markdown",
   "id": "08a99df6",
   "metadata": {},
   "source": [
    "It is a machine learning based approach where a cascade function is trained from a lot of positive and negative images. It is then used to detect objects in other images."
   ]
  },
  {
   "cell_type": "code",
   "execution_count": 3,
   "id": "cc22dd23",
   "metadata": {},
   "outputs": [],
   "source": [
    "eye=cv2.CascadeClassifier('D:/Prism/Youtube-Tuesday/haarcascade_eye.xml')"
   ]
  },
  {
   "cell_type": "code",
   "execution_count": 4,
   "id": "44b1e44b",
   "metadata": {},
   "outputs": [],
   "source": [
    "cap=cv2.VideoCapture(0)"
   ]
  },
  {
   "cell_type": "code",
   "execution_count": 5,
   "id": "489c8e5e",
   "metadata": {},
   "outputs": [
    {
     "ename": "KeyboardInterrupt",
     "evalue": "",
     "output_type": "error",
     "traceback": [
      "\u001b[1;31m---------------------------------------------------------------------------\u001b[0m",
      "\u001b[1;31mKeyboardInterrupt\u001b[0m                         Traceback (most recent call last)",
      "Input \u001b[1;32mIn [5]\u001b[0m, in \u001b[0;36m<cell line: 3>\u001b[1;34m()\u001b[0m\n\u001b[0;32m      4\u001b[0m \u001b[38;5;66;03m# after thet lets covert the color image to a gray image and for this I will use cvtcolor method which is used to\u001b[39;00m\n\u001b[0;32m      5\u001b[0m \u001b[38;5;66;03m#convert an image from one color space to another\u001b[39;00m\n\u001b[0;32m      6\u001b[0m     gray \u001b[38;5;241m=\u001b[39mcv2\u001b[38;5;241m.\u001b[39mcvtColor(img,cv2\u001b[38;5;241m.\u001b[39mCOLOR_BGR2GRAY)\n\u001b[1;32m----> 8\u001b[0m     faces\u001b[38;5;241m=\u001b[39m\u001b[43mface\u001b[49m\u001b[38;5;241;43m.\u001b[39;49m\u001b[43mdetectMultiScale\u001b[49m\u001b[43m(\u001b[49m\u001b[43mgray\u001b[49m\u001b[43m)\u001b[49m \u001b[38;5;66;03m#pre defined function in haarcascade\u001b[39;00m\n\u001b[0;32m     10\u001b[0m     \u001b[38;5;28;01mfor\u001b[39;00m(x,y,w,h)\u001b[38;5;129;01min\u001b[39;00m faces:\n\u001b[0;32m     12\u001b[0m         cv2\u001b[38;5;241m.\u001b[39mputText(img,\u001b[38;5;124m'\u001b[39m\u001b[38;5;124mface\u001b[39m\u001b[38;5;124m'\u001b[39m,(x,y),cv2\u001b[38;5;241m.\u001b[39mFONT_HERSHEY_SIMPLEX,\u001b[38;5;241m1\u001b[39m,(\u001b[38;5;241m200\u001b[39m,\u001b[38;5;241m255\u001b[39m,\u001b[38;5;241m255\u001b[39m),\u001b[38;5;241m2\u001b[39m,cv2\u001b[38;5;241m.\u001b[39mLINE_AA)\n",
      "\u001b[1;31mKeyboardInterrupt\u001b[0m: "
     ]
    }
   ],
   "source": [
    "while True:\n",
    "# now lets extract an image and return its frame values from the captred video\n",
    "    ret,img=cap.read()\n",
    "# after thet lets covert the color image to a gray image and for this I will use cvtcolor method which is used to\n",
    "#convert an image from one color space to another\n",
    "    gray =cv2.cvtColor(img,cv2.COLOR_BGR2GRAY)\n",
    "    \n",
    "    faces=face.detectMultiScale(gray) #pre defined function in haarcascade\n",
    "\n",
    "    for(x,y,w,h)in faces:\n",
    "\n",
    "        cv2.putText(img,'face',(x,y),cv2.FONT_HERSHEY_SIMPLEX,1,(200,255,255),2,cv2.LINE_AA)\n",
    "        cv2.rectangle(img,(x,y),(x+w,y+h),(255,0,0),2)\n",
    "\n",
    "        roi_gray=gray[y:y+h,x:x+w]\n",
    "        roi_color=img[y:y+h,x:x+w]\n",
    "\n",
    "        eyes=eye.detectMultiScale(roi_gray)  #eye detection \n",
    "\n",
    "        for(ex,ey,ew,eh) in eyes:\n",
    "\n",
    "            cv2.putText(roi_color,'eye',(ex,ey),cv2.FONT_HERSHEY_SIMPLEX,0.5,(200,255,255),2,cv2.LINE_AA)\n",
    "            cv2.rectangle(roi_color,(ex,ey),(ex+ew,ey+eh),(0,0,255),2)\n",
    "\n",
    "    cv2.imshow('Face & Eye Detection',img)\n",
    "\n",
    "    if cv2.waitKey(1) & 0xFF==ord('w'):\n",
    "        break\n",
    "\n",
    "\n",
    "            "
   ]
  },
  {
   "cell_type": "code",
   "execution_count": 6,
   "id": "f38614ca",
   "metadata": {},
   "outputs": [],
   "source": [
    "cap.release()\n",
    "cv2.destroyAllWindows()"
   ]
  },
  {
   "cell_type": "code",
   "execution_count": null,
   "id": "dc57322e",
   "metadata": {},
   "outputs": [],
   "source": []
  }
 ],
 "metadata": {
  "kernelspec": {
   "display_name": "Python 3 (ipykernel)",
   "language": "python",
   "name": "python3"
  },
  "language_info": {
   "codemirror_mode": {
    "name": "ipython",
    "version": 3
   },
   "file_extension": ".py",
   "mimetype": "text/x-python",
   "name": "python",
   "nbconvert_exporter": "python",
   "pygments_lexer": "ipython3",
   "version": "3.9.12"
  }
 },
 "nbformat": 4,
 "nbformat_minor": 5
}
