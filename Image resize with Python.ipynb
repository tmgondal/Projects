{
 "cells": [
  {
   "cell_type": "code",
   "execution_count": 1,
   "id": "589ff731",
   "metadata": {},
   "outputs": [],
   "source": [
    "\n",
    "import PIL"
   ]
  },
  {
   "cell_type": "markdown",
   "id": "5b937e18",
   "metadata": {},
   "source": [
    "PIL is the Python Imaging Library which provides the python interpreter with image editing capabilities"
   ]
  },
  {
   "cell_type": "code",
   "execution_count": 2,
   "id": "671ad82b",
   "metadata": {},
   "outputs": [],
   "source": [
    "# Now , load image function from the PIL library, as we need to work on images\n",
    "\n",
    "from PIL import Image\n",
    "\n",
    "# then next it to load GUI library and we will load file dialog box from here, where we can input and save our images\n",
    "\n",
    "# later on\n",
    "\n",
    "\n",
    "from tkinter.filedialog import *"
   ]
  },
  {
   "cell_type": "code",
   "execution_count": 3,
   "id": "26cf40db",
   "metadata": {},
   "outputs": [],
   "source": [
    "file_path=askopenfilename()"
   ]
  },
  {
   "cell_type": "code",
   "execution_count": 4,
   "id": "92153aec",
   "metadata": {},
   "outputs": [],
   "source": [
    "img=PIL.Image.open(file_path)"
   ]
  },
  {
   "cell_type": "code",
   "execution_count": 5,
   "id": "dd8eb1ec",
   "metadata": {},
   "outputs": [],
   "source": [
    "newsize=(200,200)"
   ]
  },
  {
   "cell_type": "code",
   "execution_count": 6,
   "id": "ace9579f",
   "metadata": {},
   "outputs": [],
   "source": [
    "img=img.resize(newsize)"
   ]
  },
  {
   "cell_type": "code",
   "execution_count": 7,
   "id": "3a50db70",
   "metadata": {},
   "outputs": [],
   "source": [
    "save=asksaveasfilename()\n",
    "img.save(save+\"compressed.jpeg\")\n"
   ]
  },
  {
   "cell_type": "code",
   "execution_count": null,
   "id": "08f04d68",
   "metadata": {},
   "outputs": [],
   "source": []
  },
  {
   "cell_type": "code",
   "execution_count": null,
   "id": "62be76f6",
   "metadata": {},
   "outputs": [],
   "source": []
  }
 ],
 "metadata": {
  "kernelspec": {
   "display_name": "Python 3 (ipykernel)",
   "language": "python",
   "name": "python3"
  },
  "language_info": {
   "codemirror_mode": {
    "name": "ipython",
    "version": 3
   },
   "file_extension": ".py",
   "mimetype": "text/x-python",
   "name": "python",
   "nbconvert_exporter": "python",
   "pygments_lexer": "ipython3",
   "version": "3.9.12"
  }
 },
 "nbformat": 4,
 "nbformat_minor": 5
}
