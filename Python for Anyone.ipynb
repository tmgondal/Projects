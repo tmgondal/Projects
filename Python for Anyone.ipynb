{
 "cells": [
  {
   "cell_type": "markdown",
   "id": "126f8ef9",
   "metadata": {},
   "source": [
    "# Python for Anyone\n",
    "1.\tIntroduction to Python\n",
    "\n",
    "    a.\tWelcome Note\n",
    "\n",
    "    b.\tInstalling Environment and Python\n",
    "\n",
    "    c.\tYour First Code\n",
    "\n",
    "2.\tBasics of Python\n",
    "\n",
    "    a.\tBasic Syntax for Python\n",
    "\n",
    "    b.\tVariable Handling in Python\n",
    "\n",
    "    c.\tUser Input \n",
    "\n",
    "    d.\tFiles Handling\n",
    "\n",
    "    e.\tIf Statement\n",
    "\n",
    "    f.\tIf-else Statement\n",
    "\n",
    "    g.\tFor Loops\n",
    "\n",
    "    h.\tWhile Loops\n",
    "\n",
    "    i.\tPass, Break and Continue Condition\n",
    "\n",
    "    j.\tBuilding Basic Functions\n",
    "\n",
    "    k.\tProject 1: Create a simple stopwatch / or we can create a BMI calculator\n",
    "    python-mini-projects/projects/Create_a_simple_stopwatch at master · Python-World/python-mini-projects · GitHub\n",
    "\n",
    "    l.\tProject 2: Create a Calculator App\n",
    "    python-mini-projects/calculator.py at master · Python-World/python-mini-projects · GitHub\n",
    "\n",
    "3.\tOOP with Python\n",
    "\n",
    "    a.\tCreating Classes and Objects Handling\n",
    "\n",
    "    b.\tInheritance\n",
    "    \n",
    "    c.\tProject 1: ATM Machine with Python\n",
    "    https://github.com/vedant-milind/ATM-Machine/blob/master/ATMcode.py\n",
    "\n",
    "    d.\tProject 2: Build a Shape Calculator with OOP\n",
    "    https://github.com/DaniDiazTech/Object-Oriented-Programming-in-Python/blob/main/shape_calculator/calculator.py\n",
    "\n",
    "4.\tData Structures with Python\n",
    "\n",
    "    a.\tLists\n",
    "\n",
    "    b.\tDictionaries\n",
    "\n",
    "    c.\tTuple\n",
    "\n",
    "    d.\tSets\n",
    "\n",
    "    e.\tStrings\n",
    "\n",
    "    f.\tCounters\n",
    "\n",
    "    5.\tProject-1: Quiz Solver\n",
    "    https://github.com/Madiha001/Python-Data-Structures-Project\n",
    "\n",
    "    6.\tProject-II: \n"
   ]
  },
  {
   "cell_type": "markdown",
   "id": "ecfbb9cd",
   "metadata": {},
   "source": [
    "# Introduction to Python"
   ]
  },
  {
   "cell_type": "markdown",
   "id": "6470c539",
   "metadata": {},
   "source": [
    "1. Welcome Note\n",
    "2. Package Installation\n",
    "3. Your First Code"
   ]
  },
  {
   "cell_type": "markdown",
   "id": "b3f10ee9",
   "metadata": {},
   "source": [
    "# Welcome Note"
   ]
  },
  {
   "cell_type": "markdown",
   "id": "48be2287",
   "metadata": {},
   "source": [
    "# Package Installation"
   ]
  },
  {
   "cell_type": "markdown",
   "id": "c2679ef9",
   "metadata": {},
   "source": [
    "# Your First Code in Python"
   ]
  },
  {
   "cell_type": "code",
   "execution_count": 6,
   "id": "f23d7ae0",
   "metadata": {},
   "outputs": [
    {
     "name": "stdout",
     "output_type": "stream",
     "text": [
      "Hello Everyone\n",
      "This is my First Code in Python\n"
     ]
    }
   ],
   "source": [
    "print('Hello Everyone')\n",
    "print('This is my First Code in Python')"
   ]
  },
  {
   "cell_type": "code",
   "execution_count": 7,
   "id": "c3f99e97",
   "metadata": {},
   "outputs": [
    {
     "name": "stdout",
     "output_type": "stream",
     "text": [
      "Hello Everyone This is my first code in Python\n"
     ]
    }
   ],
   "source": [
    "print('Hello Everyone','This is my first code in Python')"
   ]
  },
  {
   "cell_type": "code",
   "execution_count": 8,
   "id": "d78b9a23",
   "metadata": {},
   "outputs": [
    {
     "name": "stdout",
     "output_type": "stream",
     "text": [
      "Hello everyone This is my first code in Python\n"
     ]
    }
   ],
   "source": [
    "a='Hello everyone'\n",
    "b='This is my first code in Python'\n",
    "print(a,b)"
   ]
  },
  {
   "cell_type": "code",
   "execution_count": 9,
   "id": "f96e65e6",
   "metadata": {},
   "outputs": [
    {
     "name": "stdout",
     "output_type": "stream",
     "text": [
      "Hello everyone\n"
     ]
    }
   ],
   "source": [
    "print(a)"
   ]
  },
  {
   "cell_type": "code",
   "execution_count": 10,
   "id": "7d515db4",
   "metadata": {},
   "outputs": [
    {
     "name": "stdout",
     "output_type": "stream",
     "text": [
      "This is my first code in Python\n"
     ]
    }
   ],
   "source": [
    "print(b)"
   ]
  },
  {
   "cell_type": "code",
   "execution_count": 11,
   "id": "716614e6",
   "metadata": {},
   "outputs": [
    {
     "name": "stdout",
     "output_type": "stream",
     "text": [
      "This is my first code in Python Hello everyone\n"
     ]
    }
   ],
   "source": [
    "print(b,a)"
   ]
  },
  {
   "cell_type": "markdown",
   "id": "9b0e0a10",
   "metadata": {},
   "source": [
    "# Basics of Python"
   ]
  },
  {
   "cell_type": "code",
   "execution_count": null,
   "id": "08ed621b",
   "metadata": {},
   "outputs": [],
   "source": []
  }
 ],
 "metadata": {
  "kernelspec": {
   "display_name": "Python 3 (ipykernel)",
   "language": "python",
   "name": "python3"
  },
  "language_info": {
   "codemirror_mode": {
    "name": "ipython",
    "version": 3
   },
   "file_extension": ".py",
   "mimetype": "text/x-python",
   "name": "python",
   "nbconvert_exporter": "python",
   "pygments_lexer": "ipython3",
   "version": "3.9.12"
  }
 },
 "nbformat": 4,
 "nbformat_minor": 5
}
